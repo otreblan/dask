{
 "cells": [
  {
   "cell_type": "code",
   "execution_count": 1,
   "id": "c358f80a-3ba1-45b4-aeb3-a2332b8d36c4",
   "metadata": {},
   "outputs": [
    {
     "data": {
      "text/plain": [
       "dask.bag<bag-from-delayed, npartitions=1>"
      ]
     },
     "execution_count": 1,
     "metadata": {},
     "output_type": "execute_result"
    }
   ],
   "source": [
    "import dask.bag as bag\n",
    "\n",
    "encoding = \"cp1252\"\n",
    "raw_data = bag.read_text(\"finefoods.txt.gz\", encoding=encoding)\n",
    "raw_data"
   ]
  },
  {
   "cell_type": "code",
   "execution_count": 2,
   "id": "ca67d042-161d-4b16-ac2c-3a8b10d3e071",
   "metadata": {},
   "outputs": [
    {
     "data": {
      "text/plain": [
       "('product/productId: B001E4KFG0\\n',\n",
       " 'review/userId: A3SGXH7AUHU8GW\\n',\n",
       " 'review/profileName: delmartian\\n',\n",
       " 'review/helpfulness: 1/1\\n',\n",
       " 'review/score: 5.0\\n',\n",
       " 'review/time: 1303862400\\n',\n",
       " 'review/summary: Good Quality Dog Food\\n',\n",
       " 'review/text: I have bought several of the Vitality canned dog food products and have found them all to be of good quality. The product looks more like a stew than a processed meat and it smells better. My Labrador is finicky and she appreciates this product better than  most.\\n',\n",
       " '\\n',\n",
       " 'product/productId: B00813GRG4\\n')"
      ]
     },
     "execution_count": 2,
     "metadata": {},
     "output_type": "execute_result"
    }
   ],
   "source": [
    "raw_data.take(10)"
   ]
  },
  {
   "cell_type": "code",
   "execution_count": 3,
   "id": "3e1ae1ea-8a36-4117-82cc-d543ccf9c972",
   "metadata": {},
   "outputs": [
    {
     "data": {
      "text/plain": [
       "5116093"
      ]
     },
     "execution_count": 3,
     "metadata": {},
     "output_type": "execute_result"
    }
   ],
   "source": [
    "raw_data.count().compute()"
   ]
  },
  {
   "cell_type": "code",
   "execution_count": 4,
   "id": "da325045-13e0-4249-ba94-cad6b907a804",
   "metadata": {},
   "outputs": [],
   "source": [
    "from dask.delayed import delayed\n",
    "\n",
    "def get_next_part(file, start_index, encoding, span_index=0, blocksize=4096):\n",
    "    file.seek(start_index)\n",
    "    buffer = file.read(blocksize+span_index).decode(encoding)\n",
    "    delimiter_position = buffer.find(\"\\n\\n\")\n",
    "\n",
    "    if delimiter_position == -1:\n",
    "        return get_next_part(file, start_index, encoding, span_index + blocksize)\n",
    "    else:\n",
    "        file.seek(start_index)\n",
    "        return start_index, delimiter_position"
   ]
  },
  {
   "cell_type": "code",
   "execution_count": null,
   "id": "8a212341-80b3-470a-95d5-0c364e8f19fc",
   "metadata": {},
   "outputs": [
    {
     "name": "stdout",
     "output_type": "stream",
     "text": [
      "370796483\n"
     ]
    }
   ],
   "source": [
    "import gzip\n",
    "\n",
    "with gzip.open(\"finefoods.txt.gz\", \"rb\") as file_handle:\n",
    "    size = file_handle.seek(0,2) - 1\n",
    "    print(size)\n",
    "    more_data = True\n",
    "    output = []\n",
    "    current_position = next_position = 0\n",
    "    while more_data:\n",
    "        if current_position >= size:\n",
    "            more_data = False\n",
    "        else:\n",
    "            current_position, next_position = get_next_part(file_handle, current_position, encoding, 0)\n",
    "            output.append((current_position, next_position))\n",
    "            current_position = current_position + next_position + 2"
   ]
  },
  {
   "cell_type": "code",
   "execution_count": null,
   "id": "24a9efdf-f5a9-42bd-b790-2f720a401084",
   "metadata": {},
   "outputs": [],
   "source": []
  }
 ],
 "metadata": {
  "kernelspec": {
   "display_name": "Python 3 (ipykernel)",
   "language": "python",
   "name": "python3"
  },
  "language_info": {
   "codemirror_mode": {
    "name": "ipython",
    "version": 3
   },
   "file_extension": ".py",
   "mimetype": "text/x-python",
   "name": "python",
   "nbconvert_exporter": "python",
   "pygments_lexer": "ipython3",
   "version": "3.11.8"
  }
 },
 "nbformat": 4,
 "nbformat_minor": 5
}
